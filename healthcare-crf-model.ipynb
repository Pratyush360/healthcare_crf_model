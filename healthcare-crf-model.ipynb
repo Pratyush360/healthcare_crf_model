{
 "cells": [
  {
   "cell_type": "markdown",
   "id": "63c8865c",
   "metadata": {
    "papermill": {
     "duration": 0.032944,
     "end_time": "2022-02-03T07:24:03.870420",
     "exception": false,
     "start_time": "2022-02-03T07:24:03.837476",
     "status": "completed"
    },
    "tags": []
   },
   "source": [
    "# Identifying Entities in Healthcare Data"
   ]
  },
  {
   "cell_type": "code",
   "execution_count": 2,
   "id": "cf66ffb7",
   "metadata": {
    "execution": {
     "iopub.execute_input": "2022-02-03T07:24:03.937911Z",
     "iopub.status.busy": "2022-02-03T07:24:03.936698Z",
     "iopub.status.idle": "2022-02-03T07:24:37.229558Z",
     "shell.execute_reply": "2022-02-03T07:24:37.228139Z",
     "shell.execute_reply.started": "2022-02-03T05:47:12.077221Z"
    },
    "papermill": {
     "duration": 33.327962,
     "end_time": "2022-02-03T07:24:37.229776",
     "exception": false,
     "start_time": "2022-02-03T07:24:03.901814",
     "status": "completed"
    },
    "tags": []
   },
   "outputs": [],
   "source": [
    "import spacy\n",
    "import sklearn_crfsuite\n",
    "from sklearn_crfsuite import metrics"
   ]
  },
  {
   "cell_type": "code",
   "execution_count": 3,
   "id": "c425c0d1",
   "metadata": {
    "execution": {
     "iopub.execute_input": "2022-02-03T07:24:37.468823Z",
     "iopub.status.busy": "2022-02-03T07:24:37.468103Z",
     "iopub.status.idle": "2022-02-03T07:24:38.313589Z",
     "shell.execute_reply": "2022-02-03T07:24:38.314110Z",
     "shell.execute_reply.started": "2022-02-03T05:47:46.362855Z"
    },
    "papermill": {
     "duration": 0.889716,
     "end_time": "2022-02-03T07:24:38.314361",
     "exception": false,
     "start_time": "2022-02-03T07:24:37.424645",
     "status": "completed"
    },
    "tags": []
   },
   "outputs": [],
   "source": [
    "model = spacy.load(\"en_core_web_sm\", disable=['parser','ner'])"
   ]
  },
  {
   "cell_type": "code",
   "execution_count": 5,
   "id": "0980fd19",
   "metadata": {
    "execution": {
     "iopub.execute_input": "2022-02-03T07:24:38.396495Z",
     "iopub.status.busy": "2022-02-03T07:24:38.395622Z",
     "iopub.status.idle": "2022-02-03T07:24:38.399937Z",
     "shell.execute_reply": "2022-02-03T07:24:38.399370Z",
     "shell.execute_reply.started": "2022-02-03T05:47:47.240583Z"
    },
    "papermill": {
     "duration": 0.047568,
     "end_time": "2022-02-03T07:24:38.400105",
     "exception": false,
     "start_time": "2022-02-03T07:24:38.352537",
     "status": "completed"
    },
    "tags": []
   },
   "outputs": [
    {
     "name": "stdout",
     "output_type": "stream",
     "text": [
      "Collecting pandas\n",
      "  Downloading pandas-1.4.0-cp39-cp39-win_amd64.whl (10.5 MB)\n",
      "Requirement already satisfied: numpy>=1.18.5 in d:\\anaconda\\envs\\tf_gpu2\\lib\\site-packages (from pandas) (1.22.0)\n",
      "Collecting pytz>=2020.1\n",
      "  Downloading pytz-2021.3-py2.py3-none-any.whl (503 kB)\n",
      "Requirement already satisfied: python-dateutil>=2.8.1 in d:\\anaconda\\envs\\tf_gpu2\\lib\\site-packages (from pandas) (2.8.2)\n",
      "Requirement already satisfied: six>=1.5 in d:\\anaconda\\envs\\tf_gpu2\\lib\\site-packages (from python-dateutil>=2.8.1->pandas) (1.16.0)\n",
      "Installing collected packages: pytz, pandas\n",
      "Successfully installed pandas-1.4.0 pytz-2021.3\n"
     ]
    }
   ],
   "source": [
    "!pip install pandas\n",
    "\n",
    "import pandas as pd"
   ]
  },
  {
   "cell_type": "code",
   "execution_count": 6,
   "id": "5930ca72",
   "metadata": {
    "execution": {
     "iopub.execute_input": "2022-02-03T07:24:38.479586Z",
     "iopub.status.busy": "2022-02-03T07:24:38.478924Z",
     "iopub.status.idle": "2022-02-03T07:24:38.544577Z",
     "shell.execute_reply": "2022-02-03T07:24:38.545111Z",
     "shell.execute_reply.started": "2022-02-03T05:47:47.250860Z"
    },
    "papermill": {
     "duration": 0.106906,
     "end_time": "2022-02-03T07:24:38.545350",
     "exception": false,
     "start_time": "2022-02-03T07:24:38.438444",
     "status": "completed"
    },
    "tags": []
   },
   "outputs": [],
   "source": [
    "with open('train_sent','r', encoding='utf-8') as foo:\n",
    "    txt = foo.read()\n",
    "sentences = txt.split('\\n\\n')\n",
    "\n",
    "with open('train_label','r', encoding='utf-8') as foo:\n",
    "    lbl = foo.read()\n",
    "labels = lbl.split('\\n\\n')\n",
    "\n",
    "with open('test_sent','r', encoding='utf-8') as foo:\n",
    "    test_txt = foo.read()\n",
    "test_sentences = test_txt.split('\\n\\n')\n",
    "\n",
    "with open('test_label','r', encoding='utf-8') as foo:\n",
    "    test_lbl = foo.read()\n",
    "test_labels = test_lbl.split('\\n\\n')"
   ]
  },
  {
   "cell_type": "code",
   "execution_count": 7,
   "id": "41424d72",
   "metadata": {
    "execution": {
     "iopub.execute_input": "2022-02-03T07:24:38.625720Z",
     "iopub.status.busy": "2022-02-03T07:24:38.624708Z",
     "iopub.status.idle": "2022-02-03T07:24:38.636844Z",
     "shell.execute_reply": "2022-02-03T07:24:38.637380Z",
     "shell.execute_reply.started": "2022-02-03T05:47:47.310635Z"
    },
    "papermill": {
     "duration": 0.053747,
     "end_time": "2022-02-03T07:24:38.637603",
     "exception": false,
     "start_time": "2022-02-03T07:24:38.583856",
     "status": "completed"
    },
    "tags": []
   },
   "outputs": [],
   "source": [
    "sent_processed = []\n",
    "label_processed = []\n",
    "test_sent_processed = []\n",
    "test_label_processed = []\n",
    "for sent in sentences:\n",
    "    sent = sent.replace('\\n',' ')\n",
    "    sent_processed.append(sent)\n",
    "for label in labels:\n",
    "    label_processed.append(label.replace('\\n',' '))\n",
    "    \n",
    "for sent in test_sentences:\n",
    "    test_sent_processed.append(sent.replace('\\n',' '))\n",
    "for label in test_labels:\n",
    "    test_label_processed.append(label.replace('\\n',' '))"
   ]
  },
  {
   "cell_type": "markdown",
   "id": "3d23f348",
   "metadata": {
    "papermill": {
     "duration": 0.03827,
     "end_time": "2022-02-03T07:24:38.715244",
     "exception": false,
     "start_time": "2022-02-03T07:24:38.676974",
     "status": "completed"
    },
    "tags": []
   },
   "source": [
    "### Print five sentences"
   ]
  },
  {
   "cell_type": "code",
   "execution_count": 8,
   "id": "2a7d5e10",
   "metadata": {
    "execution": {
     "iopub.execute_input": "2022-02-03T07:24:38.796996Z",
     "iopub.status.busy": "2022-02-03T07:24:38.796306Z",
     "iopub.status.idle": "2022-02-03T07:24:38.803976Z",
     "shell.execute_reply": "2022-02-03T07:24:38.804545Z",
     "shell.execute_reply.started": "2022-02-03T05:47:47.326333Z"
    },
    "papermill": {
     "duration": 0.049835,
     "end_time": "2022-02-03T07:24:38.804735",
     "exception": false,
     "start_time": "2022-02-03T07:24:38.754900",
     "status": "completed"
    },
    "tags": []
   },
   "outputs": [
    {
     "name": "stdout",
     "output_type": "stream",
     "text": [
      "All live births > or = 23 weeks at the University of Vermont in 1995 ( n = 2395 ) were retrospectively analyzed for delivery route , indication for cesarean , gestational age , parity , and practice group ( to reflect risk status )\n",
      "O O O O O O O O O O O O O O O O O O O O O O O O O O O O O O O O O O O O O O O O O O O O O\n",
      "\n",
      "\n",
      "The total cesarean rate was 14.4 % ( 344 of 2395 ) , and the primary rate was 11.4 % ( 244 of 2144 )\n",
      "O O O O O O O O O O O O O O O O O O O O O O O O O\n",
      "\n",
      "\n",
      "Abnormal presentation was the most common indication ( 25.6 % , 88 of 344 )\n",
      "O O O O O O O O O O O O O O O\n",
      "\n",
      "\n",
      "The `` corrected '' cesarean rate ( maternal-fetal medicine and transported patients excluded ) was 12.4 % ( 273 of 2194 ) , and the `` corrected '' primary rate was 9.6 % ( 190 of 1975 )\n",
      "O O O O O O O O O O O O O O O O O O O O O O O O O O O O O O O O O O O O O O\n",
      "\n",
      "\n",
      "Arrest of dilation was the most common indication in both `` corrected '' subgroups ( 23.4 and 24.6 % , respectively )\n",
      "O O O O O O O O O O O O O O O O O O O O O O\n",
      "\n",
      "\n"
     ]
    }
   ],
   "source": [
    "for i in range(5):\n",
    "    print(sent_processed[i])\n",
    "    print(label_processed[i])\n",
    "    print('\\n')"
   ]
  },
  {
   "cell_type": "markdown",
   "id": "bab8fe87",
   "metadata": {
    "papermill": {
     "duration": 0.038482,
     "end_time": "2022-02-03T07:24:38.881690",
     "exception": false,
     "start_time": "2022-02-03T07:24:38.843208",
     "status": "completed"
    },
    "tags": []
   },
   "source": [
    "### Count the number of sentences in the processed train and test dataset "
   ]
  },
  {
   "cell_type": "code",
   "execution_count": 9,
   "id": "338181e8",
   "metadata": {
    "execution": {
     "iopub.execute_input": "2022-02-03T07:24:38.961571Z",
     "iopub.status.busy": "2022-02-03T07:24:38.960905Z",
     "iopub.status.idle": "2022-02-03T07:24:38.968051Z",
     "shell.execute_reply": "2022-02-03T07:24:38.967462Z",
     "shell.execute_reply.started": "2022-02-03T05:47:47.345335Z"
    },
    "papermill": {
     "duration": 0.048456,
     "end_time": "2022-02-03T07:24:38.968194",
     "exception": false,
     "start_time": "2022-02-03T07:24:38.919738",
     "status": "completed"
    },
    "tags": []
   },
   "outputs": [
    {
     "name": "stdout",
     "output_type": "stream",
     "text": [
      "Sentences in train data:2599, Sentences in test data:1056\n"
     ]
    }
   ],
   "source": [
    "print(\"Sentences in train data:%d, Sentences in test data:%d\"%(len(sent_processed),len(test_sent_processed)))"
   ]
  },
  {
   "cell_type": "markdown",
   "id": "c8774537",
   "metadata": {
    "papermill": {
     "duration": 0.038474,
     "end_time": "2022-02-03T07:24:39.045561",
     "exception": false,
     "start_time": "2022-02-03T07:24:39.007087",
     "status": "completed"
    },
    "tags": []
   },
   "source": [
    "### Count the number of lines of labels in the processed train and test dataset."
   ]
  },
  {
   "cell_type": "code",
   "execution_count": 10,
   "id": "18ad49ed",
   "metadata": {
    "execution": {
     "iopub.execute_input": "2022-02-03T07:24:39.126679Z",
     "iopub.status.busy": "2022-02-03T07:24:39.125989Z",
     "iopub.status.idle": "2022-02-03T07:24:39.131218Z",
     "shell.execute_reply": "2022-02-03T07:24:39.130680Z",
     "shell.execute_reply.started": "2022-02-03T05:47:47.352964Z"
    },
    "papermill": {
     "duration": 0.047342,
     "end_time": "2022-02-03T07:24:39.131382",
     "exception": false,
     "start_time": "2022-02-03T07:24:39.084040",
     "status": "completed"
    },
    "tags": []
   },
   "outputs": [
    {
     "name": "stdout",
     "output_type": "stream",
     "text": [
      "Labels in train data:2599, Labels in test data:1056\n"
     ]
    }
   ],
   "source": [
    "print(\"Labels in train data:%d, Labels in test data:%d\"%(len(label_processed),len(test_label_processed)))"
   ]
  },
  {
   "cell_type": "markdown",
   "id": "cf5d2753",
   "metadata": {
    "papermill": {
     "duration": 0.038237,
     "end_time": "2022-02-03T07:24:39.208785",
     "exception": false,
     "start_time": "2022-02-03T07:24:39.170548",
     "status": "completed"
    },
    "tags": []
   },
   "source": [
    "## Concept Identification\n",
    "\n",
    "We will first explore what are the various concepts present in the dataset. For this, we will use PoS Tagging. \n",
    "### Extract those tokens which have NOUN or PROPN as their PoS tag and find their frequency"
   ]
  },
  {
   "cell_type": "code",
   "execution_count": 11,
   "id": "6348e66f",
   "metadata": {
    "execution": {
     "iopub.execute_input": "2022-02-03T07:24:39.289930Z",
     "iopub.status.busy": "2022-02-03T07:24:39.289233Z",
     "iopub.status.idle": "2022-02-03T07:24:54.718515Z",
     "shell.execute_reply": "2022-02-03T07:24:54.717845Z",
     "shell.execute_reply.started": "2022-02-03T05:47:47.368621Z"
    },
    "papermill": {
     "duration": 15.471096,
     "end_time": "2022-02-03T07:24:54.718679",
     "exception": false,
     "start_time": "2022-02-03T07:24:39.247583",
     "status": "completed"
    },
    "tags": []
   },
   "outputs": [
    {
     "name": "stderr",
     "output_type": "stream",
     "text": [
      "100%|█████████████████████████████████████████████████████████████████████████████| 2599/2599 [00:15<00:00, 171.48it/s]\n",
      "100%|█████████████████████████████████████████████████████████████████████████████| 1056/1056 [00:05<00:00, 201.87it/s]\n"
     ]
    }
   ],
   "source": [
    "from tqdm import tqdm\n",
    "nouns = []\n",
    "for sent in tqdm(sent_processed):\n",
    "    doc = model(sent)\n",
    "    for tok in doc:\n",
    "        if tok.pos_=='NOUN' or tok.pos_=='PROPN':\n",
    "            nouns.append(tok.lemma_.lower())\n",
    "for sent in tqdm(test_sent_processed):\n",
    "    doc = model(sent)\n",
    "    for tok in doc:\n",
    "        if tok.pos_=='NOUN' or tok.pos_=='PROPN':\n",
    "            nouns.append(tok.lemma_.lower())"
   ]
  },
  {
   "cell_type": "markdown",
   "id": "411a2264",
   "metadata": {
    "papermill": {
     "duration": 0.08431,
     "end_time": "2022-02-03T07:24:54.889458",
     "exception": false,
     "start_time": "2022-02-03T07:24:54.805148",
     "status": "completed"
    },
    "tags": []
   },
   "source": [
    "### Print the top 25 most common tokens with NOUN or PROPN PoS tags"
   ]
  },
  {
   "cell_type": "code",
   "execution_count": 12,
   "id": "339cc9a0",
   "metadata": {
    "execution": {
     "iopub.execute_input": "2022-02-03T07:24:55.080359Z",
     "iopub.status.busy": "2022-02-03T07:24:55.072640Z",
     "iopub.status.idle": "2022-02-03T07:24:55.092013Z",
     "shell.execute_reply": "2022-02-03T07:24:55.091453Z",
     "shell.execute_reply.started": "2022-02-03T05:48:03.934780Z"
    },
    "papermill": {
     "duration": 0.11749,
     "end_time": "2022-02-03T07:24:55.092158",
     "exception": false,
     "start_time": "2022-02-03T07:24:54.974668",
     "status": "completed"
    },
    "tags": []
   },
   "outputs": [
    {
     "data": {
      "text/plain": [
       "patient         568\n",
       "treatment       316\n",
       "%               247\n",
       "study           235\n",
       "cancer          226\n",
       "cell            203\n",
       "therapy         182\n",
       "effect          181\n",
       "disease         170\n",
       "group           145\n",
       "case            131\n",
       "result          121\n",
       "lung            120\n",
       "gene            111\n",
       "year            105\n",
       "rate            103\n",
       "chemotherapy     91\n",
       "use              91\n",
       "trial            90\n",
       "woman            89\n",
       "conclusion       89\n",
       "analysis         86\n",
       "dose             83\n",
       "protein          82\n",
       "response         81\n",
       "dtype: int64"
      ]
     },
     "execution_count": 12,
     "metadata": {},
     "output_type": "execute_result"
    }
   ],
   "source": [
    "top_ent = pd.Series(nouns).value_counts().head(25)\n",
    "top_ent"
   ]
  },
  {
   "cell_type": "markdown",
   "id": "c13c4f91",
   "metadata": {
    "papermill": {
     "duration": 0.083123,
     "end_time": "2022-02-03T07:24:55.258318",
     "exception": false,
     "start_time": "2022-02-03T07:24:55.175195",
     "status": "completed"
    },
    "tags": []
   },
   "source": [
    "## Defining features for CRF"
   ]
  },
  {
   "cell_type": "code",
   "execution_count": 13,
   "id": "860f10a7",
   "metadata": {
    "execution": {
     "iopub.execute_input": "2022-02-03T07:24:55.434530Z",
     "iopub.status.busy": "2022-02-03T07:24:55.433825Z",
     "iopub.status.idle": "2022-02-03T07:24:55.440380Z",
     "shell.execute_reply": "2022-02-03T07:24:55.440862Z",
     "shell.execute_reply.started": "2022-02-03T05:48:03.970124Z"
    },
    "papermill": {
     "duration": 0.099215,
     "end_time": "2022-02-03T07:24:55.441055",
     "exception": false,
     "start_time": "2022-02-03T07:24:55.341840",
     "status": "completed"
    },
    "tags": []
   },
   "outputs": [],
   "source": [
    "# Let's define the features to get the feature value for one word.\n",
    "def getFeaturesForOneWord(sentence, pos):\n",
    "    sentence = \" \".join(sentence)\n",
    "    doc = model(sentence)\n",
    "    word = doc[pos].text\n",
    "    postag = doc[pos].pos_\n",
    "    \n",
    "    features = [\n",
    "    'word.lower=' + word.lower(), # serves as word id\n",
    "    'word[-3:]=' + word[-3:],     # last three characters\n",
    "    'word[-2:]=' + word[-2:],\n",
    "    'word.isupper=%s' % word.isupper(),  # is the word in all uppercase\n",
    "    'words.startsWithCapital=%s' % word[0].isupper(),\n",
    "    'postag=%s' % postag\n",
    "    ]\n",
    "    \n",
    "    if(pos > 0):\n",
    "        prev_word = doc[pos-1].text\n",
    "        postag1 = doc[pos-1].pos_\n",
    "        features.extend([\n",
    "        'prev_word.lower=' + prev_word.lower(), \n",
    "        'prev_word.isupper=%s' % prev_word.isupper(),\n",
    "        'prev_words.startsWithCapital=%s' % prev_word[0].isupper(),\n",
    "        'prev_postag=%s' % postag1\n",
    "    ])\n",
    "    if(pos==0):\n",
    "        features.append('BEG')\n",
    "    if pos < len(doc)-1:\n",
    "        next_word = doc[pos+1].text\n",
    "        postag2 = doc[pos+1].pos_\n",
    "        features.extend([\n",
    "        'next_word.lower=' + next_word.lower(),\n",
    "        'next_word.isupper=%s' % next_word.isupper(),\n",
    "        'next_words.startsWithCapital=%s' % next_word[0].isupper(),\n",
    "        'next_postag=%s' % postag2\n",
    "    ])\n",
    "     # feature to track begin of sentence \n",
    "    if(pos == len(doc)-1):\n",
    "        features.append('END') # feature to track end of sentence\n",
    "\n",
    "    return features"
   ]
  },
  {
   "cell_type": "markdown",
   "id": "405ce26b",
   "metadata": {
    "papermill": {
     "duration": 0.084038,
     "end_time": "2022-02-03T07:24:55.609986",
     "exception": false,
     "start_time": "2022-02-03T07:24:55.525948",
     "status": "completed"
    },
    "tags": []
   },
   "source": [
    "### Write a code/function to get the features for a sentence"
   ]
  },
  {
   "cell_type": "code",
   "execution_count": 14,
   "id": "99876a32",
   "metadata": {
    "execution": {
     "iopub.execute_input": "2022-02-03T07:24:55.783467Z",
     "iopub.status.busy": "2022-02-03T07:24:55.782800Z",
     "iopub.status.idle": "2022-02-03T07:24:55.786178Z",
     "shell.execute_reply": "2022-02-03T07:24:55.785610Z",
     "shell.execute_reply.started": "2022-02-03T05:48:03.985755Z"
    },
    "papermill": {
     "duration": 0.092468,
     "end_time": "2022-02-03T07:24:55.786353",
     "exception": false,
     "start_time": "2022-02-03T07:24:55.693885",
     "status": "completed"
    },
    "tags": []
   },
   "outputs": [],
   "source": [
    "# Write a code to get features for a sentence.\n",
    "def getFeaturesForOneSentence(sentence):\n",
    "    sentence_list = sentence.split(' ')\n",
    "    return [getFeaturesForOneWord(sentence_list, pos) for pos in range(len(sentence_list))]"
   ]
  },
  {
   "cell_type": "markdown",
   "id": "23519130",
   "metadata": {
    "papermill": {
     "duration": 0.08273,
     "end_time": "2022-02-03T07:24:55.953045",
     "exception": false,
     "start_time": "2022-02-03T07:24:55.870315",
     "status": "completed"
    },
    "tags": []
   },
   "source": [
    "### Write a code/function to get the labels of a sentence"
   ]
  },
  {
   "cell_type": "code",
   "execution_count": 15,
   "id": "9f23f05b",
   "metadata": {
    "execution": {
     "iopub.execute_input": "2022-02-03T07:24:56.128518Z",
     "iopub.status.busy": "2022-02-03T07:24:56.127861Z",
     "iopub.status.idle": "2022-02-03T07:24:56.130277Z",
     "shell.execute_reply": "2022-02-03T07:24:56.129631Z",
     "shell.execute_reply.started": "2022-02-03T05:48:04.007804Z"
    },
    "papermill": {
     "duration": 0.093262,
     "end_time": "2022-02-03T07:24:56.130429",
     "exception": false,
     "start_time": "2022-02-03T07:24:56.037167",
     "status": "completed"
    },
    "tags": []
   },
   "outputs": [],
   "source": [
    "# Write a code to get the labels for a sentence.\n",
    "def getLabelsInListForOneSentence(labels):\n",
    "    return labels.split(' ')"
   ]
  },
  {
   "cell_type": "markdown",
   "id": "b9e8ed5e",
   "metadata": {
    "papermill": {
     "duration": 0.08313,
     "end_time": "2022-02-03T07:24:56.296945",
     "exception": false,
     "start_time": "2022-02-03T07:24:56.213815",
     "status": "completed"
    },
    "tags": []
   },
   "source": [
    "### Applying Function on an example sentence (Optional)"
   ]
  },
  {
   "cell_type": "code",
   "execution_count": 16,
   "id": "527b7e77",
   "metadata": {
    "execution": {
     "iopub.execute_input": "2022-02-03T07:24:56.467392Z",
     "iopub.status.busy": "2022-02-03T07:24:56.466660Z",
     "iopub.status.idle": "2022-02-03T07:24:56.475508Z",
     "shell.execute_reply": "2022-02-03T07:24:56.476060Z",
     "shell.execute_reply.started": "2022-02-03T05:49:27.141755Z"
    },
    "papermill": {
     "duration": 0.096086,
     "end_time": "2022-02-03T07:24:56.476236",
     "exception": false,
     "start_time": "2022-02-03T07:24:56.380150",
     "status": "completed"
    },
    "tags": []
   },
   "outputs": [
    {
     "data": {
      "text/plain": [
       "[['word.lower=h',\n",
       "  'word[-3:]=h',\n",
       "  'word[-2:]=h',\n",
       "  'word.isupper=False',\n",
       "  'words.startsWithCapital=False',\n",
       "  'postag=NOUN',\n",
       "  'BEG',\n",
       "  'END']]"
      ]
     },
     "execution_count": 16,
     "metadata": {},
     "output_type": "execute_result"
    }
   ],
   "source": [
    "getFeaturesForOneSentence(sent_processed[3][1])"
   ]
  },
  {
   "cell_type": "markdown",
   "id": "5f6dd8f4",
   "metadata": {
    "papermill": {
     "duration": 0.084524,
     "end_time": "2022-02-03T07:24:56.646723",
     "exception": false,
     "start_time": "2022-02-03T07:24:56.562199",
     "status": "completed"
    },
    "tags": []
   },
   "source": [
    "## Define input and target variables\n"
   ]
  },
  {
   "cell_type": "markdown",
   "id": "f410355e",
   "metadata": {
    "papermill": {
     "duration": 0.084883,
     "end_time": "2022-02-03T07:24:56.815798",
     "exception": false,
     "start_time": "2022-02-03T07:24:56.730915",
     "status": "completed"
    },
    "tags": []
   },
   "source": [
    "#### Train on sentences which contains either 'D' or 'T' label"
   ]
  },
  {
   "cell_type": "code",
   "execution_count": 17,
   "id": "a1b17dbd",
   "metadata": {
    "execution": {
     "iopub.execute_input": "2022-02-03T07:24:56.996961Z",
     "iopub.status.busy": "2022-02-03T07:24:56.996188Z",
     "iopub.status.idle": "2022-02-03T07:24:56.999704Z",
     "shell.execute_reply": "2022-02-03T07:24:56.999019Z",
     "shell.execute_reply.started": "2022-02-03T05:49:41.602153Z"
    },
    "papermill": {
     "duration": 0.098271,
     "end_time": "2022-02-03T07:24:56.999867",
     "exception": false,
     "start_time": "2022-02-03T07:24:56.901596",
     "status": "completed"
    },
    "tags": []
   },
   "outputs": [],
   "source": [
    "sent_processed2 = []\n",
    "label_processed2 = []\n",
    "for j in range(len(sent_processed)):\n",
    "    if 'D' in label_processed[j] or 'T' in label_processed[j]:\n",
    "        sent_processed2.append(sent_processed[j])\n",
    "        label_processed2.append(label_processed[j])"
   ]
  },
  {
   "cell_type": "markdown",
   "id": "494af414",
   "metadata": {
    "papermill": {
     "duration": 0.086966,
     "end_time": "2022-02-03T07:24:57.178161",
     "exception": false,
     "start_time": "2022-02-03T07:24:57.091195",
     "status": "completed"
    },
    "tags": []
   },
   "source": [
    "### Define the features' values for each sentence as input variable  for CRF model in test and the train dataset "
   ]
  },
  {
   "cell_type": "code",
   "execution_count": 18,
   "id": "f9c9055f",
   "metadata": {
    "execution": {
     "iopub.execute_input": "2022-02-03T07:24:57.355385Z",
     "iopub.status.busy": "2022-02-03T07:24:57.354372Z",
     "iopub.status.idle": "2022-02-03T07:28:01.063120Z",
     "shell.execute_reply": "2022-02-03T07:28:01.062429Z",
     "shell.execute_reply.started": "2022-02-03T05:49:43.005464Z"
    },
    "papermill": {
     "duration": 183.799839,
     "end_time": "2022-02-03T07:28:01.063320",
     "exception": false,
     "start_time": "2022-02-03T07:24:57.263481",
     "status": "completed"
    },
    "tags": []
   },
   "outputs": [
    {
     "name": "stderr",
     "output_type": "stream",
     "text": [
      "100%|██████████████████████████████████████████████████████████████████████████████| 1289/1289 [02:10<00:00,  9.90it/s]\n",
      "100%|██████████████████████████████████████████████████████████████████████████| 1289/1289 [00:00<00:00, 322254.15it/s]\n",
      "100%|██████████████████████████████████████████████████████████████████████████████| 1056/1056 [01:34<00:00, 11.12it/s]\n",
      "100%|██████████████████████████████████████████████████████████████████████████| 1056/1056 [00:00<00:00, 352614.05it/s]\n"
     ]
    }
   ],
   "source": [
    "X_train = [getFeaturesForOneSentence(sentence) for sentence in tqdm(sent_processed2)]\n",
    "Y_train = [getLabelsInListForOneSentence(labels) for labels in tqdm(label_processed2)]\n",
    " \n",
    "X_test = [getFeaturesForOneSentence(sentence) for sentence in tqdm(test_sent_processed)]\n",
    "Y_test = [getLabelsInListForOneSentence(labels) for labels in tqdm(test_label_processed)]"
   ]
  },
  {
   "cell_type": "code",
   "execution_count": 19,
   "id": "31e740a2",
   "metadata": {
    "execution": {
     "iopub.execute_input": "2022-02-03T07:28:01.818059Z",
     "iopub.status.busy": "2022-02-03T07:28:01.817301Z",
     "iopub.status.idle": "2022-02-03T07:28:03.494023Z",
     "shell.execute_reply": "2022-02-03T07:28:03.494612Z",
     "shell.execute_reply.started": "2022-02-03T05:52:59.925008Z"
    },
    "papermill": {
     "duration": 2.056564,
     "end_time": "2022-02-03T07:28:03.494836",
     "exception": false,
     "start_time": "2022-02-03T07:28:01.438272",
     "status": "completed"
    },
    "tags": []
   },
   "outputs": [
    {
     "name": "stdout",
     "output_type": "stream",
     "text": [
      "CPU times: total: 1.91 s\n",
      "Wall time: 2.09 s\n"
     ]
    }
   ],
   "source": [
    "%%time\n",
    "crf = sklearn_crfsuite.CRF(\n",
    "    algorithm='lbfgs',\n",
    "    c1=0.1,\n",
    "    c2=0.1,\n",
    "    max_iterations=100,\n",
    "    all_possible_transitions=True\n",
    ")\n",
    "crf.fit(X_train, Y_train)       # fit the model\n",
    "\n",
    "labels = list(crf.classes_)\n",
    "labels.remove('O')              # Remove the label 'O' while evaluating the model"
   ]
  },
  {
   "cell_type": "code",
   "execution_count": 20,
   "id": "13f217f1",
   "metadata": {
    "execution": {
     "iopub.execute_input": "2022-02-03T07:28:04.317095Z",
     "iopub.status.busy": "2022-02-03T07:28:04.311664Z",
     "iopub.status.idle": "2022-02-03T07:28:04.510269Z",
     "shell.execute_reply": "2022-02-03T07:28:04.509493Z",
     "shell.execute_reply.started": "2022-02-03T05:54:06.761795Z"
    },
    "papermill": {
     "duration": 0.639063,
     "end_time": "2022-02-03T07:28:04.510456",
     "exception": false,
     "start_time": "2022-02-03T07:28:03.871393",
     "status": "completed"
    },
    "tags": []
   },
   "outputs": [],
   "source": [
    "y_pred = crf.predict(X_test)    # predict the labels"
   ]
  },
  {
   "cell_type": "markdown",
   "id": "9562bd22",
   "metadata": {
    "papermill": {
     "duration": 0.414247,
     "end_time": "2022-02-03T07:28:05.321797",
     "exception": false,
     "start_time": "2022-02-03T07:28:04.907550",
     "status": "completed"
    },
    "tags": []
   },
   "source": [
    "#### F1-score"
   ]
  },
  {
   "cell_type": "code",
   "execution_count": 21,
   "id": "2d46e190",
   "metadata": {
    "execution": {
     "iopub.execute_input": "2022-02-03T07:28:06.078592Z",
     "iopub.status.busy": "2022-02-03T07:28:06.077879Z",
     "iopub.status.idle": "2022-02-03T07:28:06.230156Z",
     "shell.execute_reply": "2022-02-03T07:28:06.229503Z"
    },
    "papermill": {
     "duration": 0.529802,
     "end_time": "2022-02-03T07:28:06.230334",
     "exception": false,
     "start_time": "2022-02-03T07:28:05.700532",
     "status": "completed"
    },
    "tags": []
   },
   "outputs": [
    {
     "data": {
      "text/plain": [
       "0.5545714414130426"
      ]
     },
     "execution_count": 21,
     "metadata": {},
     "output_type": "execute_result"
    }
   ],
   "source": [
    "metrics.flat_f1_score(Y_test, y_pred,\n",
    "                      average='weighted', labels=labels)"
   ]
  },
  {
   "cell_type": "markdown",
   "id": "6c881991",
   "metadata": {
    "papermill": {
     "duration": 0.377955,
     "end_time": "2022-02-03T07:28:07.852039",
     "exception": false,
     "start_time": "2022-02-03T07:28:07.474084",
     "status": "completed"
    },
    "tags": []
   },
   "source": [
    "### Predict the labels of each of the tokens in each sentence of the test dataset that has been pre processed earlier."
   ]
  },
  {
   "cell_type": "code",
   "execution_count": 23,
   "id": "f588d555",
   "metadata": {
    "execution": {
     "iopub.execute_input": "2022-02-03T07:28:08.603188Z",
     "iopub.status.busy": "2022-02-03T07:28:08.602280Z",
     "iopub.status.idle": "2022-02-03T07:28:08.607636Z",
     "shell.execute_reply": "2022-02-03T07:28:08.608288Z",
     "shell.execute_reply.started": "2022-02-03T05:53:02.062042Z"
    },
    "papermill": {
     "duration": 0.382514,
     "end_time": "2022-02-03T07:28:08.608469",
     "exception": false,
     "start_time": "2022-02-03T07:28:08.225955",
     "status": "completed"
    },
    "tags": []
   },
   "outputs": [
    {
     "name": "stdout",
     "output_type": "stream",
     "text": [
      "Sentence: Furthermore , when all deliveries were analyzed , regardless of risk status but limited to gestational age > or = 36 weeks , the rates did not change ( 12.6 % , 280 of 2214 ; primary 9.2 % , 183 of 1994 )\n",
      "Orig Labels: ['O', 'O', 'O', 'O', 'O', 'O', 'O', 'O', 'O', 'O', 'O', 'O', 'O', 'O', 'O', 'O', 'O', 'O', 'O', 'O', 'O', 'O', 'O', 'O', 'O', 'O', 'O', 'O', 'O', 'O', 'O', 'O', 'O', 'O', 'O', 'O', 'O', 'O', 'O', 'O', 'O', 'O', 'O', 'O']\n",
      "Pred Labels: ['O', 'O', 'O', 'O', 'O', 'O', 'O', 'O', 'O', 'O', 'O', 'O', 'O', 'O', 'O', 'O', 'O', 'O', 'O', 'O', 'O', 'O', 'O', 'O', 'O', 'O', 'O', 'O', 'O', 'O', 'O', 'O', 'O', 'O', 'O', 'O', 'O', 'O', 'O', 'O', 'O', 'O', 'O', 'O']\n",
      "Sentence: As the ambient temperature increases , there is an increase in insensible fluid loss and the potential for dehydration\n",
      "Orig Labels: ['O', 'O', 'O', 'O', 'O', 'O', 'O', 'O', 'O', 'O', 'O', 'O', 'O', 'O', 'O', 'O', 'O', 'O', 'O']\n",
      "Pred Labels: ['O', 'O', 'O', 'O', 'O', 'O', 'O', 'O', 'O', 'O', 'O', 'D', 'D', 'D', 'O', 'O', 'O', 'O', 'D']\n",
      "Sentence: The daily high temperature ranged from 71 to 104 degrees F and AFI values ranged from 1.7 to 24.7 cm during the study period\n",
      "Orig Labels: ['O', 'O', 'O', 'O', 'O', 'O', 'O', 'O', 'O', 'O', 'O', 'O', 'O', 'O', 'O', 'O', 'O', 'O', 'O', 'O', 'O', 'O', 'O', 'O']\n",
      "Pred Labels: ['O', 'O', 'O', 'O', 'O', 'O', 'O', 'O', 'O', 'O', 'O', 'O', 'O', 'O', 'O', 'O', 'O', 'O', 'O', 'O', 'O', 'O', 'O', 'O']\n",
      "Sentence: There was a significant correlation between the 2- , 3- , and 4-day mean temperature and AFI , with the 4-day mean being the most significant ( r = 0.31 , p & # 60 ; 0.001 )\n",
      "Orig Labels: ['O', 'O', 'O', 'O', 'O', 'O', 'O', 'O', 'O', 'O', 'O', 'O', 'O', 'O', 'O', 'O', 'O', 'O', 'O', 'O', 'O', 'O', 'O', 'O', 'O', 'O', 'O', 'O', 'O', 'O', 'O', 'O', 'O', 'O', 'O', 'O', 'O', 'O']\n",
      "Pred Labels: ['O', 'O', 'O', 'O', 'O', 'O', 'O', 'O', 'O', 'O', 'O', 'O', 'O', 'O', 'O', 'O', 'O', 'O', 'O', 'O', 'O', 'O', 'O', 'O', 'O', 'O', 'O', 'O', 'O', 'O', 'O', 'O', 'O', 'O', 'O', 'O', 'O', 'O']\n",
      "Sentence: Fluctuations in ambient temperature are inversely correlated to changes in AFI\n",
      "Orig Labels: ['O', 'O', 'O', 'O', 'O', 'O', 'O', 'O', 'O', 'O', 'O']\n",
      "Pred Labels: ['O', 'O', 'O', 'O', 'O', 'O', 'O', 'O', 'O', 'O', 'O']\n"
     ]
    }
   ],
   "source": [
    "for i in range(5):\n",
    "    print(\"Sentence:\",test_sent_processed[i])\n",
    "    print(\"Orig Labels:\", Y_test[i])\n",
    "    print(\"Pred Labels:\", y_pred[i])"
   ]
  },
  {
   "cell_type": "markdown",
   "id": "72df713e",
   "metadata": {
    "papermill": {
     "duration": 0.374862,
     "end_time": "2022-02-03T07:28:09.361043",
     "exception": false,
     "start_time": "2022-02-03T07:28:08.986181",
     "status": "completed"
    },
    "tags": []
   },
   "source": [
    "## Identifying Diseases and Treatments using Custom NER\n",
    "\n",
    "We now use the CRF model's prediction to prepare a record of diseases identified in the corpus and treatments used for the diseases.\n"
   ]
  },
  {
   "cell_type": "markdown",
   "id": "f3faa2a2",
   "metadata": {
    "papermill": {
     "duration": 0.379008,
     "end_time": "2022-02-03T07:28:10.114572",
     "exception": false,
     "start_time": "2022-02-03T07:28:09.735564",
     "status": "completed"
    },
    "tags": []
   },
   "source": [
    "### Create the logic to get all the predicted treatments (T) labels corresponding to each disease (D) label in the test dataset."
   ]
  },
  {
   "cell_type": "markdown",
   "id": "3c8b431a",
   "metadata": {
    "papermill": {
     "duration": 0.381112,
     "end_time": "2022-02-03T07:28:10.872796",
     "exception": false,
     "start_time": "2022-02-03T07:28:10.491684",
     "status": "completed"
    },
    "tags": []
   },
   "source": [
    "![image.png](data:image/png;base64,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)"
   ]
  },
  {
   "cell_type": "code",
   "execution_count": 24,
   "id": "698f4694",
   "metadata": {
    "execution": {
     "iopub.execute_input": "2022-02-03T07:28:11.641848Z",
     "iopub.status.busy": "2022-02-03T07:28:11.641118Z",
     "iopub.status.idle": "2022-02-03T07:28:11.677436Z",
     "shell.execute_reply": "2022-02-03T07:28:11.677928Z",
     "shell.execute_reply.started": "2022-02-03T07:14:57.874252Z"
    },
    "papermill": {
     "duration": 0.421926,
     "end_time": "2022-02-03T07:28:11.678125",
     "exception": false,
     "start_time": "2022-02-03T07:28:11.256199",
     "status": "completed"
    },
    "tags": []
   },
   "outputs": [],
   "source": [
    "dict_ = {}\n",
    "for i in range(len(Y_train)):\n",
    "    idxD = []; idxT = []\n",
    "    for j,label in enumerate(Y_train[i]):\n",
    "        if label == 'D':\n",
    "            idxD.append(j)\n",
    "        if label == 'T':\n",
    "            idxT.append(j)\n",
    "    disease = ''\n",
    "    diseases = []\n",
    "    for idx in idxD:\n",
    "        disease += sent_processed2[i].split()[idx]\n",
    "        if idx+1 in idxD:\n",
    "            disease += ' '\n",
    "        else:\n",
    "            diseases.append(disease)\n",
    "            disease = ''\n",
    "    treatment = ''\n",
    "    treatments = []\n",
    "    for idx in idxT:\n",
    "        treatment += sent_processed2[i].split()[idx]\n",
    "        if idx+1 in idxT:\n",
    "            treatment += ' '\n",
    "        else:\n",
    "            treatments.append(treatment)\n",
    "            treatment = ''\n",
    "    for dis in diseases:\n",
    "        dict_[dis] = treatments\n",
    "#============================================\n",
    "        \n",
    "for i in range(len(Y_test)):\n",
    "    idxD = []; idxT = []\n",
    "    for j,label in enumerate(Y_test[i]):\n",
    "        if label == 'D':\n",
    "            idxD.append(j)\n",
    "        if label == 'T':\n",
    "            idxT.append(j)\n",
    "    disease = ''\n",
    "    diseases = []\n",
    "    for idx in idxD:\n",
    "        disease += test_sent_processed[i].split()[idx]\n",
    "        if idx+1 in idxD:\n",
    "            disease += ' '\n",
    "        else:\n",
    "            diseases.append(disease)\n",
    "            disease = ''\n",
    "    treatment = ''\n",
    "    treatments = []\n",
    "    for idx in idxT:\n",
    "        treatment += test_sent_processed[i].split()[idx]\n",
    "        if idx+1 in idxT:\n",
    "            treatment += ' '\n",
    "        else:\n",
    "            treatments.append(treatment)\n",
    "            treatment = ''\n",
    "    for dis in diseases:\n",
    "        dict_[dis] = treatments"
   ]
  },
  {
   "cell_type": "code",
   "execution_count": 25,
   "id": "4fa1e7b9",
   "metadata": {
    "execution": {
     "iopub.execute_input": "2022-02-03T07:28:12.436875Z",
     "iopub.status.busy": "2022-02-03T07:28:12.436197Z",
     "iopub.status.idle": "2022-02-03T07:28:12.437667Z",
     "shell.execute_reply": "2022-02-03T07:28:12.438295Z",
     "shell.execute_reply.started": "2022-02-03T07:21:52.514369Z"
    },
    "papermill": {
     "duration": 0.382914,
     "end_time": "2022-02-03T07:28:12.438490",
     "exception": false,
     "start_time": "2022-02-03T07:28:12.055576",
     "status": "completed"
    },
    "tags": []
   },
   "outputs": [],
   "source": [
    "new_dict = {}\n",
    "for key, value in dict_.items():\n",
    "    if value != []:\n",
    "        new_dict[key] = value"
   ]
  },
  {
   "cell_type": "markdown",
   "id": "31b321c2",
   "metadata": {
    "papermill": {
     "duration": 0.379888,
     "end_time": "2022-02-03T07:28:13.194884",
     "exception": false,
     "start_time": "2022-02-03T07:28:12.814996",
     "status": "completed"
    },
    "tags": []
   },
   "source": [
    "### Predicts the treatment for the disease named 'hereditary retinoblastoma'"
   ]
  },
  {
   "cell_type": "code",
   "execution_count": 26,
   "id": "b5463f8c",
   "metadata": {
    "execution": {
     "iopub.execute_input": "2022-02-03T07:28:13.961203Z",
     "iopub.status.busy": "2022-02-03T07:28:13.960492Z",
     "iopub.status.idle": "2022-02-03T07:28:13.965772Z",
     "shell.execute_reply": "2022-02-03T07:28:13.966357Z",
     "shell.execute_reply.started": "2022-02-03T07:22:07.289665Z"
    },
    "papermill": {
     "duration": 0.395681,
     "end_time": "2022-02-03T07:28:13.966588",
     "exception": false,
     "start_time": "2022-02-03T07:28:13.570907",
     "status": "completed"
    },
    "tags": []
   },
   "outputs": [
    {
     "name": "stdout",
     "output_type": "stream",
     "text": [
      "['gene therapy']\n"
     ]
    }
   ],
   "source": [
    "for d in new_dict.keys():\n",
    "    if \"retinoblastoma\" in d.lower() or \"hereditary retinoblastoma\" in d.lower():\n",
    "        print(new_dict[d])"
   ]
  },
  {
   "cell_type": "code",
   "execution_count": null,
   "id": "c8ab760b",
   "metadata": {
    "papermill": {
     "duration": 0.374307,
     "end_time": "2022-02-03T07:28:14.720914",
     "exception": false,
     "start_time": "2022-02-03T07:28:14.346607",
     "status": "completed"
    },
    "tags": []
   },
   "outputs": [],
   "source": []
  }
 ],
 "metadata": {
  "kernelspec": {
   "display_name": "Python 3 (ipykernel)",
   "language": "python",
   "name": "python3"
  },
  "language_info": {
   "codemirror_mode": {
    "name": "ipython",
    "version": 3
   },
   "file_extension": ".py",
   "mimetype": "text/x-python",
   "name": "python",
   "nbconvert_exporter": "python",
   "pygments_lexer": "ipython3",
   "version": "3.9.9"
  },
  "papermill": {
   "default_parameters": {},
   "duration": 264.170013,
   "end_time": "2022-02-03T07:28:17.836046",
   "environment_variables": {},
   "exception": null,
   "input_path": "__notebook__.ipynb",
   "output_path": "__notebook__.ipynb",
   "parameters": {},
   "start_time": "2022-02-03T07:23:53.666033",
   "version": "2.3.3"
  }
 },
 "nbformat": 4,
 "nbformat_minor": 5
}
